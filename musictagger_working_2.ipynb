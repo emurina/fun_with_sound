{
 "cells": [
  {
   "cell_type": "markdown",
   "metadata": {},
   "source": [
    "docker run -p 8888:8888 -p 6006:6006 -v /c/Users/Elvis/Dropbox/CAS_Statistical_Modelling/Musik/:/notebooks/ -it oduerr/tf_docker\n",
    "#Py 2!!!!"
   ]
  },
  {
   "cell_type": "code",
   "execution_count": 1,
   "metadata": {
    "collapsed": false,
    "deletable": true,
    "editable": true
   },
   "outputs": [
    {
     "name": "stdout",
     "output_type": "stream",
     "text": [
      "Requirement already up-to-date: pip in /usr/local/lib/python2.7/dist-packages\r\n"
     ]
    }
   ],
   "source": [
    "!pip install --upgrade pip"
   ]
  },
  {
   "cell_type": "code",
   "execution_count": 2,
   "metadata": {
    "collapsed": false,
    "deletable": true,
    "editable": true
   },
   "outputs": [
    {
     "name": "stdout",
     "output_type": "stream",
     "text": [
      "Requirement already satisfied: keras==1.1.1 in /usr/local/lib/python2.7/dist-packages\n",
      "Requirement already satisfied: pyyaml in /usr/local/lib/python2.7/dist-packages (from keras==1.1.1)\n",
      "Requirement already satisfied: theano in /usr/local/lib/python2.7/dist-packages (from keras==1.1.1)\n",
      "Requirement already satisfied: six in /usr/local/lib/python2.7/dist-packages (from keras==1.1.1)\n",
      "Requirement already satisfied: numpy>=1.7.1 in /usr/local/lib/python2.7/dist-packages (from theano->keras==1.1.1)\n",
      "Requirement already satisfied: scipy>=0.11 in /usr/local/lib/python2.7/dist-packages (from theano->keras==1.1.1)\n"
     ]
    }
   ],
   "source": [
    "!pip install keras==1.1.1\n",
    "#1.1.1 works"
   ]
  },
  {
   "cell_type": "code",
   "execution_count": 3,
   "metadata": {
    "collapsed": false,
    "deletable": true,
    "editable": true
   },
   "outputs": [
    {
     "name": "stdout",
     "output_type": "stream",
     "text": [
      "Requirement already satisfied: librosa in /usr/local/lib/python2.7/dist-packages\n",
      "Requirement already satisfied: resampy>=0.1.2 in /usr/local/lib/python2.7/dist-packages (from librosa)\n",
      "Requirement already satisfied: decorator>=3.0.0 in /usr/local/lib/python2.7/dist-packages (from librosa)\n",
      "Requirement already satisfied: scipy>=0.13.0 in /usr/local/lib/python2.7/dist-packages (from librosa)\n",
      "Requirement already satisfied: audioread>=2.0.0 in /usr/local/lib/python2.7/dist-packages (from librosa)\n",
      "Requirement already satisfied: six>=1.3 in /usr/local/lib/python2.7/dist-packages (from librosa)\n",
      "Requirement already satisfied: scikit-learn>=0.14.0 in /usr/local/lib/python2.7/dist-packages (from librosa)\n",
      "Requirement already satisfied: joblib>=0.7.0 in /usr/local/lib/python2.7/dist-packages (from librosa)\n",
      "Requirement already satisfied: numpy>=1.8.0 in /usr/local/lib/python2.7/dist-packages (from librosa)\n",
      "Requirement already satisfied: Cython>=0.23 in /usr/local/lib/python2.7/dist-packages (from resampy>=0.1.2->librosa)\n"
     ]
    }
   ],
   "source": [
    "!pip install librosa"
   ]
  },
  {
   "cell_type": "code",
   "execution_count": 4,
   "metadata": {
    "collapsed": false,
    "deletable": true,
    "editable": true
   },
   "outputs": [
    {
     "name": "stderr",
     "output_type": "stream",
     "text": [
      "Using TensorFlow backend.\n"
     ]
    }
   ],
   "source": [
    "import keras\n",
    "import numpy as np"
   ]
  },
  {
   "cell_type": "code",
   "execution_count": 5,
   "metadata": {
    "collapsed": false,
    "deletable": true,
    "editable": true
   },
   "outputs": [
    {
     "name": "stdout",
     "output_type": "stream",
     "text": [
      "Ign http://archive.ubuntu.com trusty InRelease\n",
      "Hit http://archive.ubuntu.com trusty-updates InRelease\n",
      "Hit http://archive.ubuntu.com trusty-security InRelease\n",
      "Hit http://archive.ubuntu.com trusty Release.gpg  \n",
      "Hit http://archive.ubuntu.com trusty Release      \n",
      "Hit http://archive.ubuntu.com trusty-updates/main Sources\n",
      "Hit http://archive.ubuntu.com trusty-updates/restricted Sources\n",
      "Hit http://archive.ubuntu.com trusty-updates/universe Sources\n",
      "Hit http://archive.ubuntu.com trusty-updates/main amd64 Packages\n",
      "Hit http://archive.ubuntu.com trusty-updates/restricted amd64 Packages\n",
      "Hit http://archive.ubuntu.com trusty-updates/universe amd64 Packages\n",
      "Hit http://archive.ubuntu.com trusty-security/main Sources\n",
      "Hit http://archive.ubuntu.com trusty-security/restricted Sources\n",
      "Hit http://archive.ubuntu.com trusty-security/universe Sources\n",
      "Hit http://archive.ubuntu.com trusty-security/main amd64 Packages\n",
      "Hit http://archive.ubuntu.com trusty-security/restricted amd64 Packages\n",
      "Hit http://archive.ubuntu.com trusty-security/universe amd64 Packages\n",
      "Hit http://archive.ubuntu.com trusty/main Sources\n",
      "Hit http://archive.ubuntu.com trusty/restricted Sources\n",
      "Hit http://archive.ubuntu.com trusty/universe Sources                          \n",
      "Hit http://archive.ubuntu.com trusty/main amd64 Packages                       \n",
      "Hit http://archive.ubuntu.com trusty/restricted amd64 Packages                 \n",
      "Hit http://archive.ubuntu.com trusty/universe amd64 Packages                   \n",
      "Reading package lists... Done                                                  \n"
     ]
    }
   ],
   "source": [
    "!apt-get update"
   ]
  },
  {
   "cell_type": "code",
   "execution_count": 6,
   "metadata": {
    "collapsed": false,
    "deletable": true,
    "editable": true
   },
   "outputs": [
    {
     "name": "stdout",
     "output_type": "stream",
     "text": [
      "Reading package lists... Done\n",
      "Building dependency tree       \n",
      "Reading state information... Done\n",
      "libav-tools is already the newest version.\n",
      "0 upgraded, 0 newly installed, 0 to remove and 86 not upgraded.\n"
     ]
    }
   ],
   "source": [
    "!apt-get install -y libav-tools"
   ]
  },
  {
   "cell_type": "code",
   "execution_count": 7,
   "metadata": {
    "collapsed": false,
    "deletable": true,
    "editable": true
   },
   "outputs": [
    {
     "name": "stdout",
     "output_type": "stream",
     "text": [
      "DISTRIB_ID=Ubuntu\r\n",
      "DISTRIB_RELEASE=14.04\r\n",
      "DISTRIB_CODENAME=trusty\r\n",
      "DISTRIB_DESCRIPTION=\"Ubuntu 14.04.5 LTS\"\r\n",
      "NAME=\"Ubuntu\"\r\n",
      "VERSION=\"14.04.5 LTS, Trusty Tahr\"\r\n",
      "ID=ubuntu\r\n",
      "ID_LIKE=debian\r\n",
      "PRETTY_NAME=\"Ubuntu 14.04.5 LTS\"\r\n",
      "VERSION_ID=\"14.04\"\r\n",
      "HOME_URL=\"http://www.ubuntu.com/\"\r\n",
      "SUPPORT_URL=\"http://help.ubuntu.com/\"\r\n",
      "BUG_REPORT_URL=\"http://bugs.launchpad.net/ubuntu/\"\r\n"
     ]
    }
   ],
   "source": [
    "!cat /etc/*-release"
   ]
  },
  {
   "cell_type": "code",
   "execution_count": 8,
   "metadata": {
    "collapsed": false,
    "deletable": true,
    "editable": true
   },
   "outputs": [
    {
     "name": "stdout",
     "output_type": "stream",
     "text": [
      "Reading package lists... Done\n",
      "Building dependency tree       \n",
      "Reading state information... Done\n",
      "python-audioread is already the newest version.\n",
      "0 upgraded, 0 newly installed, 0 to remove and 86 not upgraded.\n"
     ]
    }
   ],
   "source": [
    "!apt-get install -y python-audioread "
   ]
  },
  {
   "cell_type": "code",
   "execution_count": 9,
   "metadata": {
    "collapsed": false,
    "deletable": true,
    "editable": true
   },
   "outputs": [
    {
     "name": "stdout",
     "output_type": "stream",
     "text": [
      "Requirement already satisfied: tensorflow==0.12.0 in /usr/local/lib/python2.7/dist-packages\n",
      "Requirement already satisfied: mock>=2.0.0 in /usr/local/lib/python2.7/dist-packages (from tensorflow==0.12.0)\n",
      "Requirement already satisfied: numpy>=1.11.0 in /usr/local/lib/python2.7/dist-packages (from tensorflow==0.12.0)\n",
      "Requirement already satisfied: protobuf==3.1.0 in /usr/local/lib/python2.7/dist-packages (from tensorflow==0.12.0)\n",
      "Requirement already satisfied: wheel in /usr/local/lib/python2.7/dist-packages (from tensorflow==0.12.0)\n",
      "Requirement already satisfied: six>=1.10.0 in /usr/local/lib/python2.7/dist-packages (from tensorflow==0.12.0)\n",
      "Requirement already satisfied: funcsigs>=1; python_version < \"3.3\" in /usr/local/lib/python2.7/dist-packages (from mock>=2.0.0->tensorflow==0.12.0)\n",
      "Requirement already satisfied: pbr>=0.11 in /usr/local/lib/python2.7/dist-packages (from mock>=2.0.0->tensorflow==0.12.0)\n",
      "Requirement already satisfied: setuptools in /usr/local/lib/python2.7/dist-packages (from protobuf==3.1.0->tensorflow==0.12.0)\n",
      "Requirement already satisfied: appdirs>=1.4.0 in /usr/local/lib/python2.7/dist-packages (from setuptools->protobuf==3.1.0->tensorflow==0.12.0)\n",
      "Requirement already satisfied: packaging>=16.8 in /usr/local/lib/python2.7/dist-packages (from setuptools->protobuf==3.1.0->tensorflow==0.12.0)\n",
      "Requirement already satisfied: pyparsing in /usr/local/lib/python2.7/dist-packages (from packaging>=16.8->setuptools->protobuf==3.1.0->tensorflow==0.12.0)\n"
     ]
    }
   ],
   "source": [
    "!pip install tensorflow==0.12.0"
   ]
  },
  {
   "cell_type": "code",
   "execution_count": 10,
   "metadata": {
    "collapsed": false,
    "deletable": true,
    "editable": true
   },
   "outputs": [],
   "source": [
    "import sys\n",
    "sys.path.append(\"/notebook/music-auto_tagging-keras/\")"
   ]
  },
  {
   "cell_type": "code",
   "execution_count": 11,
   "metadata": {
    "collapsed": false,
    "deletable": true,
    "editable": true
   },
   "outputs": [],
   "source": [
    "from keras.applications.music_tagger_crnn import MusicTaggerCRNN\n",
    "from keras.applications.music_tagger_crnn import preprocess_input, decode_predictions"
   ]
  },
  {
   "cell_type": "code",
   "execution_count": 12,
   "metadata": {
    "collapsed": true,
    "deletable": true,
    "editable": true
   },
   "outputs": [],
   "source": [
    "import tensorflow as tf"
   ]
  },
  {
   "cell_type": "code",
   "execution_count": 13,
   "metadata": {
    "collapsed": false,
    "deletable": true,
    "editable": true
   },
   "outputs": [
    {
     "data": {
      "text/plain": [
       "'0.12.0'"
      ]
     },
     "execution_count": 13,
     "metadata": {},
     "output_type": "execute_result"
    }
   ],
   "source": [
    "tf.__version__"
   ]
  },
  {
   "cell_type": "code",
   "execution_count": 14,
   "metadata": {
    "collapsed": false,
    "deletable": true,
    "editable": true
   },
   "outputs": [
    {
     "data": {
      "text/plain": [
       "'1.1.1'"
      ]
     },
     "execution_count": 14,
     "metadata": {},
     "output_type": "execute_result"
    }
   ],
   "source": [
    "import keras\n",
    "keras.__version__"
   ]
  },
  {
   "cell_type": "code",
   "execution_count": 15,
   "metadata": {
    "collapsed": false,
    "deletable": true,
    "editable": true
   },
   "outputs": [],
   "source": [
    "model = MusicTaggerCRNN(\"msd\")"
   ]
  },
  {
   "cell_type": "code",
   "execution_count": 16,
   "metadata": {
    "collapsed": false,
    "deletable": true,
    "editable": true
   },
   "outputs": [
    {
     "name": "stdout",
     "output_type": "stream",
     "text": [
      "____________________________________________________________________________________________________\n",
      "Layer (type)                     Output Shape          Param #     Connected to                     \n",
      "====================================================================================================\n",
      "input_1 (InputLayer)             (None, 96, 1366, 1)   0                                            \n",
      "____________________________________________________________________________________________________\n",
      "zeropadding2d_1 (ZeroPadding2D)  (None, 96, 1440, 1)   0           input_1[0][0]                    \n",
      "____________________________________________________________________________________________________\n",
      "bn_0_freq (BatchNormalization)   (None, 96, 1440, 1)   2880        zeropadding2d_1[0][0]            \n",
      "____________________________________________________________________________________________________\n",
      "conv1 (Convolution2D)            (None, 96, 1440, 64)  640         bn_0_freq[0][0]                  \n",
      "____________________________________________________________________________________________________\n",
      "bn1 (BatchNormalization)         (None, 96, 1440, 64)  128         conv1[0][0]                      \n",
      "____________________________________________________________________________________________________\n",
      "elu_1 (ELU)                      (None, 96, 1440, 64)  0           bn1[0][0]                        \n",
      "____________________________________________________________________________________________________\n",
      "pool1 (MaxPooling2D)             (None, 48, 720, 64)   0           elu_1[0][0]                      \n",
      "____________________________________________________________________________________________________\n",
      "conv2 (Convolution2D)            (None, 48, 720, 128)  73856       pool1[0][0]                      \n",
      "____________________________________________________________________________________________________\n",
      "bn2 (BatchNormalization)         (None, 48, 720, 128)  256         conv2[0][0]                      \n",
      "____________________________________________________________________________________________________\n",
      "elu_2 (ELU)                      (None, 48, 720, 128)  0           bn2[0][0]                        \n",
      "____________________________________________________________________________________________________\n",
      "pool2 (MaxPooling2D)             (None, 16, 240, 128)  0           elu_2[0][0]                      \n",
      "____________________________________________________________________________________________________\n",
      "conv3 (Convolution2D)            (None, 16, 240, 128)  147584      pool2[0][0]                      \n",
      "____________________________________________________________________________________________________\n",
      "bn3 (BatchNormalization)         (None, 16, 240, 128)  256         conv3[0][0]                      \n",
      "____________________________________________________________________________________________________\n",
      "elu_3 (ELU)                      (None, 16, 240, 128)  0           bn3[0][0]                        \n",
      "____________________________________________________________________________________________________\n",
      "pool3 (MaxPooling2D)             (None, 4, 60, 128)    0           elu_3[0][0]                      \n",
      "____________________________________________________________________________________________________\n",
      "conv4 (Convolution2D)            (None, 4, 60, 128)    147584      pool3[0][0]                      \n",
      "____________________________________________________________________________________________________\n",
      "bn4 (BatchNormalization)         (None, 4, 60, 128)    256         conv4[0][0]                      \n",
      "____________________________________________________________________________________________________\n",
      "elu_4 (ELU)                      (None, 4, 60, 128)    0           bn4[0][0]                        \n",
      "____________________________________________________________________________________________________\n",
      "pool4 (MaxPooling2D)             (None, 1, 15, 128)    0           elu_4[0][0]                      \n",
      "____________________________________________________________________________________________________\n",
      "reshape_1 (Reshape)              (None, 15, 128)       0           pool4[0][0]                      \n",
      "____________________________________________________________________________________________________\n",
      "gru1 (GRU)                       (None, 15, 32)        15456       reshape_1[0][0]                  \n",
      "____________________________________________________________________________________________________\n",
      "gru2 (GRU)                       (None, 32)            6240        gru1[0][0]                       \n",
      "____________________________________________________________________________________________________\n",
      "output (Dense)                   (None, 50)            1650        gru2[0][0]                       \n",
      "====================================================================================================\n",
      "Total params: 396786\n",
      "____________________________________________________________________________________________________\n"
     ]
    }
   ],
   "source": [
    "model.summary()"
   ]
  },
  {
   "cell_type": "code",
   "execution_count": 17,
   "metadata": {
    "collapsed": false,
    "deletable": true,
    "editable": true
   },
   "outputs": [
    {
     "name": "stdout",
     "output_type": "stream",
     "text": [
      "fatal: destination path 'music-auto_tagging-keras' already exists and is not an empty directory.\r\n"
     ]
    }
   ],
   "source": [
    "! git clone https://github.com/keunwoochoi/music-auto_tagging-keras"
   ]
  },
  {
   "cell_type": "code",
   "execution_count": 18,
   "metadata": {
    "collapsed": false,
    "deletable": true,
    "editable": true
   },
   "outputs": [
    {
     "name": "stdout",
     "output_type": "stream",
     "text": [
      "/notebooks\r\n"
     ]
    }
   ],
   "source": [
    "!pwd"
   ]
  },
  {
   "cell_type": "code",
   "execution_count": 19,
   "metadata": {
    "collapsed": false,
    "deletable": true,
    "editable": true
   },
   "outputs": [],
   "source": [
    "audio_path = \"/notebooks/music-auto_tagging-keras/data/bensound-thejazzpiano.mp3\"\n",
    "melgram = preprocess_input(audio_path)\n",
    "melgrams = np.expand_dims(melgram, axis=0)"
   ]
  },
  {
   "cell_type": "code",
   "execution_count": 20,
   "metadata": {
    "collapsed": false,
    "deletable": true,
    "editable": true
   },
   "outputs": [
    {
     "name": "stdout",
     "output_type": "stream",
     "text": [
      "Features:\n",
      "[[  2.38822699e-02   1.44260256e-02   2.88026873e-02   2.09411327e-02\n",
      "    2.68865407e-01   3.78720835e-02   2.54575051e-02   1.46105411e-02\n",
      "    6.10654755e-03   1.37441263e-01   7.55245006e-03   3.08891525e-03\n",
      "    1.08704120e-01   2.32425146e-03   8.67738680e-04   8.14383663e-03\n",
      "    5.14499238e-03   7.35228928e-03   1.02780961e-01   2.84744008e-03\n",
      "    3.63156013e-03   9.10214707e-03   2.46136598e-02   2.99826767e-02\n",
      "    2.14174041e-03   5.21474460e-04   5.16668661e-03   1.48019509e-03\n",
      "    5.84501848e-02   3.53895361e-03   3.71221900e-02   4.32249578e-03\n",
      "    6.65935129e-03   6.27342984e-02   5.25268086e-04   4.64719161e-03\n",
      "    2.10093916e-03   4.54576407e-03   6.61023054e-03   1.10023620e-03\n",
      "    2.06356607e-02   3.79242375e-02   6.80807047e-04   4.87962272e-03\n",
      "    2.58119107e-04   6.20759604e-03   2.28708400e-03   1.90901617e-03\n",
      "    1.28922556e-02   1.24682614e-03]]\n",
      "(1, 50)\n"
     ]
    }
   ],
   "source": [
    "feats = model.predict(melgrams)\n",
    "print('Features:')\n",
    "print(feats)\n",
    "print(feats.shape)"
   ]
  },
  {
   "cell_type": "code",
   "execution_count": 21,
   "metadata": {
    "collapsed": false,
    "deletable": true,
    "editable": true
   },
   "outputs": [
    {
     "name": "stdout",
     "output_type": "stream",
     "text": [
      "Features:\n",
      "[[('electronic', 0.26886541), ('jazz', 0.13744126), ('chillout', 0.10870412), ('electronica', 0.10278096), ('Hip-Hop', 0.062734298), ('ambient', 0.058450185), ('electro', 0.037924238), ('female vocalists', 0.037872083), ('experimental', 0.03712219), ('instrumental', 0.029982677), ('alternative', 0.028802687), ('dance', 0.025457505), ('chill', 0.02461366), ('rock', 0.02388227), ('indie', 0.020941133), ('funk', 0.020635661), ('00s', 0.014610541), ('pop', 0.014426026), ('House', 0.012892256), ('90s', 0.0091021471), ('soul', 0.0081438366), ('beautiful', 0.0075524501), ('Mellow', 0.0073522893), ('guitar', 0.0066593513), ('sexy', 0.0066102305), ('rnb', 0.006207596), ('alternative rock', 0.0061065475), ('blues', 0.0051666866), ('indie rock', 0.0051449924), ('Progressive rock', 0.0048796227), ('party', 0.0046471916), ('easy listening', 0.0045457641), ('female vocalist', 0.0043224958), ('folk', 0.0036315601), ('acoustic', 0.0035389536), ('metal', 0.0030889153), ('80s', 0.0028474401), ('male vocalists', 0.0023242515), ('indie pop', 0.002287084), ('punk', 0.0021417404), ('country', 0.0021009392), ('sad', 0.0019090162), ('hard rock', 0.0014801951), ('happy', 0.0012468261), ('catchy', 0.0011002362), ('classic rock', 0.00086773868), ('heavy metal', 0.00068080705), ('70s', 0.00052526809), ('oldies', 0.00052147446), ('60s', 0.00025811911)]]\n"
     ]
    }
   ],
   "source": [
    "feats = model.predict(melgrams)\n",
    "print('Features:')\n",
    "print(decode_predictions(feats,top_n=50))"
   ]
  },
  {
   "cell_type": "code",
   "execution_count": 22,
   "metadata": {
    "collapsed": false
   },
   "outputs": [
    {
     "name": "stdout",
     "output_type": "stream",
     "text": [
      "/notebooks/Radiohead - In Rainbows (2007) 320kbps/01 15 Step.mp3\n",
      "[('Hip-Hop', 0.10944935), ('electronic', 0.096248239), ('rock', 0.069782205), ('jazz', 0.056412973)]\n",
      "/notebooks/Radiohead - In Rainbows (2007) 320kbps/02 Bodysnatchers.mp3\n",
      "[('electronic', 0.15840343), ('instrumental', 0.10582788), ('jazz', 0.09705466), ('rock', 0.080024712)]\n",
      "/notebooks/Radiohead - In Rainbows (2007) 320kbps/03 Nude.mp3\n",
      "[('jazz', 0.29742691), ('female vocalists', 0.070285693), ('ambient', 0.065702647), ('instrumental', 0.063935451)]\n",
      "/notebooks/Radiohead - In Rainbows (2007) 320kbps/04 Weird Fishes , Arpeggi.mp3\n",
      "[('folk', 0.1913064), ('jazz', 0.1832438), ('rock', 0.17560732), ('instrumental', 0.1351234)]\n",
      "/notebooks/Radiohead - In Rainbows (2007) 320kbps/05 All I Need.mp3\n",
      "[('jazz', 0.28194261), ('Hip-Hop', 0.075582862), ('electronic', 0.072081134), ('instrumental', 0.058996737)]\n",
      "/notebooks/Radiohead - In Rainbows (2007) 320kbps/06 Faust Arp.mp3\n",
      "[('jazz', 0.52338117), ('instrumental', 0.11088909), ('guitar', 0.086621657), ('folk', 0.066492401)]\n",
      "/notebooks/Radiohead - In Rainbows (2007) 320kbps/07 Reckoner.mp3\n",
      "[('jazz', 0.24228446), ('female vocalists', 0.17416036), ('folk', 0.14248247), ('acoustic', 0.05776995)]\n",
      "/notebooks/Radiohead - In Rainbows (2007) 320kbps/08 House Of Cards.mp3\n",
      "[('female vocalists', 0.12130646), ('jazz', 0.12082576), ('rock', 0.098854922), ('alternative', 0.074153349)]\n",
      "/notebooks/Radiohead - In Rainbows (2007) 320kbps/09 Jigsaw Falling Into Place.mp3\n",
      "[('folk', 0.21414593), ('jazz', 0.13559096), ('rock', 0.1084643), ('pop', 0.10072026)]\n",
      "/notebooks/Radiohead - In Rainbows (2007) 320kbps/10 Videotape.mp3\n",
      "[('jazz', 0.33011794), ('folk', 0.23674953), ('acoustic', 0.10031857), ('female vocalists', 0.085147046)]\n"
     ]
    }
   ],
   "source": [
    "import glob\n",
    "Songs=glob.glob(\"/notebooks/Radiohead - In Rainbows (2007) 320kbps/*.mp3\")\n",
    "for i in range(0,len(Songs)):\n",
    "    audio_path = Songs[i]\n",
    "    melgram = preprocess_input(audio_path)\n",
    "    melgrams = np.expand_dims(melgram, axis=0)\n",
    "    feats = model.predict(melgrams)\n",
    "    print(Songs[i])\n",
    "    print(decode_predictions(feats,top_n=4))[0]"
   ]
  },
  {
   "cell_type": "code",
   "execution_count": 23,
   "metadata": {
    "collapsed": false
   },
   "outputs": [
    {
     "name": "stdout",
     "output_type": "stream",
     "text": [
      "/notebooks/The_Strokes_Discography/The_Strokes_Is_This_It/01 -  Is This It.mp3\n",
      "[('jazz', 0.17453463), ('folk', 0.13267212), ('female vocalists', 0.086791009), ('rock', 0.082463212)]\n",
      "/notebooks/The_Strokes_Discography/The_Strokes_Is_This_It/02 - The Modern Age.mp3\n",
      "[('jazz', 0.3878985), ('folk', 0.14762282), ('instrumental', 0.11730416), ('guitar', 0.0832358)]\n",
      "/notebooks/The_Strokes_Discography/The_Strokes_Is_This_It/03 - Soma.mp3\n",
      "[('jazz', 0.40476453), ('instrumental', 0.14596514), ('folk', 0.095724665), ('guitar', 0.084771484)]\n",
      "/notebooks/The_Strokes_Discography/The_Strokes_Is_This_It/04 - Barely Legal.mp3\n",
      "[('Hip-Hop', 0.16997789), ('jazz', 0.12070934), ('electronic', 0.078585409), ('rock', 0.058492213)]\n",
      "/notebooks/The_Strokes_Discography/The_Strokes_Is_This_It/05 - Someday.mp3\n",
      "[('jazz', 0.35990071), ('electronic', 0.10624785), ('ambient', 0.061332271), ('chillout', 0.057902273)]\n",
      "/notebooks/The_Strokes_Discography/The_Strokes_Is_This_It/06 - Alone, Together.mp3\n",
      "[('electronic', 0.1572931), ('Hip-Hop', 0.11562586), ('jazz', 0.081491739), ('chillout', 0.065120697)]\n",
      "/notebooks/The_Strokes_Discography/The_Strokes_Is_This_It/07 - Last Nite.mp3\n",
      "[('rock', 0.13165838), ('Hip-Hop', 0.080264278), ('electronic', 0.05567418), ('instrumental', 0.055231303)]\n",
      "/notebooks/The_Strokes_Discography/The_Strokes_Is_This_It/08 - Hard to Explain.mp3\n",
      "[('Hip-Hop', 0.17768139), ('rock', 0.13776326), ('electronic', 0.12646647), ('alternative', 0.096473493)]\n",
      "/notebooks/The_Strokes_Discography/The_Strokes_Is_This_It/09 - When It Started.mp3\n",
      "[('electronic', 0.14767824), ('jazz', 0.13312195), ('instrumental', 0.063879296), ('rock', 0.057328336)]\n",
      "/notebooks/The_Strokes_Discography/The_Strokes_Is_This_It/10 - Trying to Your Luck.mp3\n",
      "[('jazz', 0.19572215), ('electronic', 0.13937286), ('female vocalists', 0.10712458), ('rock', 0.050336193)]\n",
      "/notebooks/The_Strokes_Discography/The_Strokes_Is_This_It/11 - Take It Or Leave It.mp3\n",
      "[('jazz', 0.45701429), ('folk', 0.12865056), ('instrumental', 0.098465644), ('female vocalists', 0.084864654)]\n"
     ]
    }
   ],
   "source": [
    "import glob\n",
    "Songs=glob.glob(\"/notebooks/The_Strokes_Discography/The_Strokes_Is_This_It/*.mp3\")\n",
    "for i in range(0,len(Songs)):\n",
    "    audio_path = Songs[i]\n",
    "    melgram = preprocess_input(audio_path)\n",
    "    melgrams = np.expand_dims(melgram, axis=0)\n",
    "    feats = model.predict(melgrams)\n",
    "    print(Songs[i])\n",
    "    print(decode_predictions(feats,top_n=4))[0]"
   ]
  },
  {
   "cell_type": "code",
   "execution_count": 24,
   "metadata": {
    "collapsed": false
   },
   "outputs": [
    {
     "name": "stdout",
     "output_type": "stream",
     "text": [
      "/notebooks/Bob Marley & The Wailers - Exodus/1-01 - Natural Mystic.mp3\n",
      "[('Hip-Hop', 0.32147732), ('electronic', 0.1066392), ('rock', 0.079213232), ('alternative', 0.044349428)]\n",
      "/notebooks/Bob Marley & The Wailers - Exodus/1-02 - So Much Things To Say.mp3\n",
      "[('jazz', 0.17373747), ('female vocalists', 0.12095743), ('electronic', 0.084064618), ('folk', 0.040605389)]\n",
      "/notebooks/Bob Marley & The Wailers - Exodus/1-03 - Guiltiness.mp3\n",
      "[('electronic', 0.20556468), ('jazz', 0.1199967), ('ambient', 0.11702538), ('instrumental', 0.097390458)]\n",
      "/notebooks/Bob Marley & The Wailers - Exodus/1-04 - The Heathen.mp3\n",
      "[('jazz', 0.38675982), ('folk', 0.23429385), ('acoustic', 0.13202637), ('instrumental', 0.11778357)]\n",
      "/notebooks/Bob Marley & The Wailers - Exodus/1-05 - Exodus.mp3\n",
      "[('electronic', 0.24797554), ('jazz', 0.15230386), ('chillout', 0.15058906), ('electronica', 0.10014396)]\n",
      "/notebooks/Bob Marley & The Wailers - Exodus/1-06 - Jamming.mp3\n",
      "[('jazz', 0.2657488), ('electronic', 0.1109371), ('instrumental', 0.094736613), ('ambient', 0.063161612)]\n",
      "/notebooks/Bob Marley & The Wailers - Exodus/1-07 - Waiting In Vain.mp3\n",
      "[('jazz', 0.22948602), ('electronic', 0.13031988), ('instrumental', 0.061624087), ('chillout', 0.061132547)]\n",
      "/notebooks/Bob Marley & The Wailers - Exodus/1-08 - Turn Your Lights Down Low.mp3\n",
      "[('jazz', 0.33063349), ('folk', 0.10075482), ('instrumental', 0.094645135), ('female vocalists', 0.094265237)]\n",
      "/notebooks/Bob Marley & The Wailers - Exodus/1-09 - Three Little Birds.mp3\n",
      "[('electronic', 0.19889139), ('Hip-Hop', 0.093487293), ('ambient', 0.072441757), ('electronica', 0.071196198)]\n",
      "/notebooks/Bob Marley & The Wailers - Exodus/1-10 - One Love  People Get Ready.mp3\n",
      "[('jazz', 0.25083429), ('electronic', 0.10568336), ('instrumental', 0.072017625), ('female vocalists', 0.067955673)]\n"
     ]
    }
   ],
   "source": [
    "import glob\n",
    "Songs=glob.glob(\"/notebooks/Bob Marley & The Wailers - Exodus/*.mp3\")\n",
    "for i in range(0,len(Songs)):\n",
    "    audio_path = Songs[i]\n",
    "    melgram = preprocess_input(audio_path)\n",
    "    melgrams = np.expand_dims(melgram, axis=0)\n",
    "    feats = model.predict(melgrams)\n",
    "    print(Songs[i])\n",
    "    print(decode_predictions(feats,top_n=4))[0]"
   ]
  },
  {
   "cell_type": "code",
   "execution_count": null,
   "metadata": {
    "collapsed": true
   },
   "outputs": [],
   "source": []
  },
  {
   "cell_type": "code",
   "execution_count": null,
   "metadata": {
    "collapsed": true
   },
   "outputs": [],
   "source": []
  },
  {
   "cell_type": "code",
   "execution_count": 25,
   "metadata": {
    "collapsed": true,
    "deletable": true,
    "editable": true
   },
   "outputs": [],
   "source": [
    "model = MusicTaggerCRNN(weights='msd',include_top=False)"
   ]
  },
  {
   "cell_type": "code",
   "execution_count": 26,
   "metadata": {
    "collapsed": false
   },
   "outputs": [
    {
     "name": "stdout",
     "output_type": "stream",
     "text": [
      "____________________________________________________________________________________________________\n",
      "Layer (type)                     Output Shape          Param #     Connected to                     \n",
      "====================================================================================================\n",
      "input_2 (InputLayer)             (None, 96, 1366, 1)   0                                            \n",
      "____________________________________________________________________________________________________\n",
      "zeropadding2d_2 (ZeroPadding2D)  (None, 96, 1440, 1)   0           input_2[0][0]                    \n",
      "____________________________________________________________________________________________________\n",
      "bn_0_freq (BatchNormalization)   (None, 96, 1440, 1)   2880        zeropadding2d_2[0][0]            \n",
      "____________________________________________________________________________________________________\n",
      "conv1 (Convolution2D)            (None, 96, 1440, 64)  640         bn_0_freq[0][0]                  \n",
      "____________________________________________________________________________________________________\n",
      "bn1 (BatchNormalization)         (None, 96, 1440, 64)  128         conv1[0][0]                      \n",
      "____________________________________________________________________________________________________\n",
      "elu_5 (ELU)                      (None, 96, 1440, 64)  0           bn1[0][0]                        \n",
      "____________________________________________________________________________________________________\n",
      "pool1 (MaxPooling2D)             (None, 48, 720, 64)   0           elu_5[0][0]                      \n",
      "____________________________________________________________________________________________________\n",
      "conv2 (Convolution2D)            (None, 48, 720, 128)  73856       pool1[0][0]                      \n",
      "____________________________________________________________________________________________________\n",
      "bn2 (BatchNormalization)         (None, 48, 720, 128)  256         conv2[0][0]                      \n",
      "____________________________________________________________________________________________________\n",
      "elu_6 (ELU)                      (None, 48, 720, 128)  0           bn2[0][0]                        \n",
      "____________________________________________________________________________________________________\n",
      "pool2 (MaxPooling2D)             (None, 16, 240, 128)  0           elu_6[0][0]                      \n",
      "____________________________________________________________________________________________________\n",
      "conv3 (Convolution2D)            (None, 16, 240, 128)  147584      pool2[0][0]                      \n",
      "____________________________________________________________________________________________________\n",
      "bn3 (BatchNormalization)         (None, 16, 240, 128)  256         conv3[0][0]                      \n",
      "____________________________________________________________________________________________________\n",
      "elu_7 (ELU)                      (None, 16, 240, 128)  0           bn3[0][0]                        \n",
      "____________________________________________________________________________________________________\n",
      "pool3 (MaxPooling2D)             (None, 4, 60, 128)    0           elu_7[0][0]                      \n",
      "____________________________________________________________________________________________________\n",
      "conv4 (Convolution2D)            (None, 4, 60, 128)    147584      pool3[0][0]                      \n",
      "____________________________________________________________________________________________________\n",
      "bn4 (BatchNormalization)         (None, 4, 60, 128)    256         conv4[0][0]                      \n",
      "____________________________________________________________________________________________________\n",
      "elu_8 (ELU)                      (None, 4, 60, 128)    0           bn4[0][0]                        \n",
      "____________________________________________________________________________________________________\n",
      "pool4 (MaxPooling2D)             (None, 1, 15, 128)    0           elu_8[0][0]                      \n",
      "____________________________________________________________________________________________________\n",
      "reshape_2 (Reshape)              (None, 15, 128)       0           pool4[0][0]                      \n",
      "____________________________________________________________________________________________________\n",
      "gru1 (GRU)                       (None, 15, 32)        15456       reshape_2[0][0]                  \n",
      "____________________________________________________________________________________________________\n",
      "gru2 (GRU)                       (None, 32)            6240        gru1[0][0]                       \n",
      "====================================================================================================\n",
      "Total params: 395136\n",
      "____________________________________________________________________________________________________\n"
     ]
    }
   ],
   "source": [
    "model.summary()"
   ]
  },
  {
   "cell_type": "code",
   "execution_count": 27,
   "metadata": {
    "collapsed": false
   },
   "outputs": [
    {
     "name": "stdout",
     "output_type": "stream",
     "text": [
      "0\n",
      "1\n",
      "2\n",
      "3\n",
      "4\n",
      "5\n",
      "6\n",
      "7\n",
      "8\n",
      "9\n"
     ]
    }
   ],
   "source": [
    "Songs=glob.glob(\"/notebooks/Radiohead - In Rainbows (2007) 320kbps/*.mp3\")\n",
    "EMB1=np.zeros([len(Songs),32])\n",
    "for i in range(0,len(Songs)):\n",
    "    audio_path = Songs[i]\n",
    "    melgram = preprocess_input(audio_path)\n",
    "    melgrams = np.expand_dims(melgram, axis=0)\n",
    "    EMB1[i,:] = model.predict(melgrams)\n",
    "    print(i)"
   ]
  },
  {
   "cell_type": "code",
   "execution_count": 28,
   "metadata": {
    "collapsed": false
   },
   "outputs": [
    {
     "name": "stdout",
     "output_type": "stream",
     "text": [
      "0\n",
      "1\n",
      "2\n",
      "3\n",
      "4\n",
      "5\n",
      "6\n",
      "7\n",
      "8\n",
      "9\n",
      "10\n"
     ]
    }
   ],
   "source": [
    "Songs=glob.glob(\"/notebooks/The_Strokes_Discography/The_Strokes_Is_This_It/*.mp3\")\n",
    "EMB2=np.zeros([len(Songs),32])\n",
    "for i in range(0,len(Songs)):\n",
    "    audio_path = Songs[i]\n",
    "    melgram = preprocess_input(audio_path)\n",
    "    melgrams = np.expand_dims(melgram, axis=0)\n",
    "    EMB2[i,:] = model.predict(melgrams)\n",
    "    print(i)"
   ]
  },
  {
   "cell_type": "code",
   "execution_count": 29,
   "metadata": {
    "collapsed": false,
    "deletable": true,
    "editable": true
   },
   "outputs": [
    {
     "name": "stdout",
     "output_type": "stream",
     "text": [
      "0\n",
      "1\n",
      "2\n",
      "3\n",
      "4\n",
      "5\n",
      "6\n",
      "7\n",
      "8\n",
      "9\n"
     ]
    }
   ],
   "source": [
    "Songs=glob.glob(\"/notebooks/Bob Marley & The Wailers - Exodus/*.mp3\")\n",
    "EMB3=np.zeros([len(Songs),32])\n",
    "for i in range(0,len(Songs)):\n",
    "    audio_path = Songs[i]\n",
    "    melgram = preprocess_input(audio_path)\n",
    "    melgrams = np.expand_dims(melgram, axis=0)\n",
    "    EMB3[i,:] = model.predict(melgrams)\n",
    "    print(i)"
   ]
  },
  {
   "cell_type": "code",
   "execution_count": 30,
   "metadata": {
    "collapsed": false
   },
   "outputs": [
    {
     "data": {
      "text/plain": [
       "(31, 32)"
      ]
     },
     "execution_count": 30,
     "metadata": {},
     "output_type": "execute_result"
    }
   ],
   "source": [
    "EMB=np.vstack([EMB1,EMB2,EMB3])\n",
    "EMB.shape"
   ]
  },
  {
   "cell_type": "code",
   "execution_count": 31,
   "metadata": {
    "collapsed": true
   },
   "outputs": [],
   "source": [
    "from sklearn.manifold import TSNE\n",
    "model = TSNE(n_components=2)\n",
    "tsne = model.fit_transform(EMB)"
   ]
  },
  {
   "cell_type": "code",
   "execution_count": 32,
   "metadata": {
    "collapsed": true
   },
   "outputs": [],
   "source": [
    "y=np.hstack([np.repeat(0,10),np.repeat(1,11),np.repeat(2,10)])\n"
   ]
  },
  {
   "cell_type": "code",
   "execution_count": 33,
   "metadata": {
    "collapsed": true
   },
   "outputs": [],
   "source": [
    "import matplotlib.pyplot as plt\n",
    "import matplotlib.image as imgplot\n",
    "%matplotlib inline"
   ]
  },
  {
   "cell_type": "code",
   "execution_count": 34,
   "metadata": {
    "collapsed": false
   },
   "outputs": [
    {
     "data": {
      "text/plain": [
       "<matplotlib.colorbar.Colorbar at 0x7f8c8bd08850>"
      ]
     },
     "execution_count": 34,
     "metadata": {},
     "output_type": "execute_result"
    },
    {
     "data": {
      "image/png": "[encoded data removed]",
      "text/plain": [
       "<matplotlib.figure.Figure at 0x7f8c8c07a9d0>"
      ]
     },
     "metadata": {},
     "output_type": "display_data"
    }
   ],
   "source": [
    "plt.figure(figsize=(12,12))\n",
    "plt.scatter(x=tsne[:,0],y=tsne[:,1],c=y,s=300)\n",
    "plt.colorbar()\n",
    "#0 Radiohead 1 Strokes 2 Bob"
   ]
  },
  {
   "cell_type": "code",
   "execution_count": 35,
   "metadata": {
    "collapsed": true
   },
   "outputs": [],
   "source": [
    "from sklearn import decomposition\n",
    "\n",
    "pca = decomposition.PCA(n_components=2)\n",
    "pca.fit(EMB)\n",
    "EMB = pca.transform(EMB)"
   ]
  },
  {
   "cell_type": "code",
   "execution_count": 36,
   "metadata": {
    "collapsed": false
   },
   "outputs": [
    {
     "data": {
      "text/plain": [
       "<matplotlib.colorbar.Colorbar at 0x7f8c8bb0a690>"
      ]
     },
     "execution_count": 36,
     "metadata": {},
     "output_type": "execute_result"
    },
    {
     "data": {
      "image/png": "[encoded data removed]",
      "text/plain": [
       "<matplotlib.figure.Figure at 0x7f8c8bca0550>"
      ]
     },
     "metadata": {},
     "output_type": "display_data"
    }
   ],
   "source": [
    "plt.figure(figsize=(12,12))\n",
    "plt.scatter(x=EMB[:,0],y=EMB[:,1],c=y,s=300)\n",
    "plt.colorbar()\n",
    "#0 Radiohead 1 Strokes 2 Bob"
   ]
  },
  {
   "cell_type": "code",
   "execution_count": null,
   "metadata": {
    "collapsed": true
   },
   "outputs": [],
   "source": []
  }
 ],
 "metadata": {
  "kernelspec": {
   "display_name": "Python 2",
   "language": "python",
   "name": "python2"
  },
  "language_info": {
   "codemirror_mode": {
    "name": "ipython",
    "version": 2
   },
   "file_extension": ".py",
   "mimetype": "text/x-python",
   "name": "python",
   "nbconvert_exporter": "python",
   "pygments_lexer": "ipython2",
   "version": "2.7.6"
  }
 },
 "nbformat": 4,
 "nbformat_minor": 1
}
