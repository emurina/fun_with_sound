{
 "cells": [
  {
   "cell_type": "code",
   "execution_count": 1,
   "metadata": {
    "collapsed": false
   },
   "outputs": [
    {
     "name": "stdout",
     "output_type": "stream",
     "text": [
      "Cloning into 'music-auto_tagging-keras'...\n",
      "remote: Counting objects: 357, done.\u001b[K\n",
      "remote: Total 357 (delta 0), reused 0 (delta 0), pack-reused 357\u001b[K\n",
      "Receiving objects: 100% (357/357), 34.03 MiB | 1.65 MiB/s, done.\n",
      "Resolving deltas: 100% (199/199), done.\n",
      "Checking connectivity... done.\n"
     ]
    }
   ],
   "source": [
    "!git clone https://github.com/keunwoochoi/music-auto_tagging-keras"
   ]
  },
  {
   "cell_type": "code",
   "execution_count": 2,
   "metadata": {
    "collapsed": true
   },
   "outputs": [],
   "source": [
    "import sys\n",
    "sys.path.append(\"C:music-auto_tagging-keras/\")"
   ]
  },
  {
   "cell_type": "code",
   "execution_count": 3,
   "metadata": {
    "collapsed": false
   },
   "outputs": [
    {
     "name": "stdout",
     "output_type": "stream",
     "text": [
      "Collecting librosa\n",
      "  Downloading librosa-0.5.0.tar.gz (1.5MB)\n",
      "\u001b[K    100% |################################| 1.5MB 197kB/s ta 0:00:01  6% |#                               | 92kB 455kB/s eta 0:00:04    91% |#############################   | 1.4MB 2.3MB/s eta 0:00:01\n",
      "\u001b[?25hCollecting audioread>=2.0.0 (from librosa)\n",
      "  Downloading audioread-2.1.4.tar.gz\n",
      "Requirement already satisfied: numpy>=1.8.0 in /usr/local/lib/python3.4/dist-packages (from librosa)\n",
      "Requirement already satisfied: scipy>=0.13.0 in /usr/local/lib/python3.4/dist-packages (from librosa)\n",
      "Requirement already satisfied: scikit-learn>=0.14.0 in /usr/local/lib/python3.4/dist-packages (from librosa)\n",
      "Collecting joblib>=0.7.0 (from librosa)\n",
      "  Downloading joblib-0.11-py2.py3-none-any.whl (176kB)\n",
      "\u001b[K    100% |################################| 184kB 774kB/s ta 0:00:01\n",
      "\u001b[?25hRequirement already satisfied: decorator>=3.0.0 in /usr/local/lib/python3.4/dist-packages (from librosa)\n",
      "Requirement already satisfied: six>=1.3 in /usr/local/lib/python3.4/dist-packages (from librosa)\n",
      "Collecting resampy>=0.1.2 (from librosa)\n",
      "  Downloading resampy-0.1.5.tar.gz (444kB)\n",
      "\u001b[K    100% |################################| 450kB 395kB/s ta 0:00:01   20% |######                          | 92kB 1.3MB/s eta 0:00:01    50% |################                | 225kB 3.4MB/s eta 0:00:01\n",
      "\u001b[?25hCollecting Cython>=0.23 (from resampy>=0.1.2->librosa)\n",
      "  Downloading Cython-0.25.2-cp34-cp34m-manylinux1_x86_64.whl (7.2MB)\n",
      "\u001b[K    100% |################################| 7.2MB 66kB/s eta 0:00:011  9% |###                             | 716kB 3.8MB/s eta 0:00:02    13% |####                            | 972kB 3.0MB/s eta 0:00:03    15% |####                            | 1.1MB 2.2MB/s eta 0:00:03    36% |###########                     | 2.6MB 1.7MB/s eta 0:00:03    46% |##############                  | 3.3MB 4.2MB/s eta 0:00:01    49% |###############                 | 3.6MB 3.2MB/s eta 0:00:02    60% |###################             | 4.4MB 4.1MB/s eta 0:00:01    62% |####################            | 4.5MB 4.4MB/s eta 0:00:01    69% |######################          | 5.0MB 3.0MB/s eta 0:00:01    72% |#######################         | 5.2MB 4.2MB/s eta 0:00:01    75% |########################        | 5.4MB 4.1MB/s eta 0:00:01    89% |############################    | 6.5MB 1.9MB/s eta 0:00:01    92% |#############################   | 6.7MB 2.5MB/s eta 0:00:01\n",
      "\u001b[?25hBuilding wheels for collected packages: librosa, audioread, resampy\n",
      "  Running setup.py bdist_wheel for librosa ... \u001b[?25l-\b \b\\\b \b|\b \b/\b \b-\b \b\\\b \bdone\n",
      "\u001b[?25h  Stored in directory: /root/.cache/pip/wheels/73/c8/19/fb03300a8b94f1b4b91d1622df507d8ed5a71228042c616c18\n",
      "  Running setup.py bdist_wheel for audioread ... \u001b[?25l-\b \b\\\b \b|\b \b/\b \bdone\n",
      "\u001b[?25h  Stored in directory: /root/.cache/pip/wheels/62/1b/49/0384c1e62978b50f516e813410d2d5f466a9a4fe520790f105\n",
      "  Running setup.py bdist_wheel for resampy ... \u001b[?25l-\b \b\\\b \b|\b \b/\b \b-\b \b\\\b \b|\b \b/\b \bdone\n",
      "\u001b[?25h  Stored in directory: /root/.cache/pip/wheels/9f/3a/ee/ed64e3e789565e086c723a92c391fc1b15f1e9fa80d53345aa\n",
      "Successfully built librosa audioread resampy\n",
      "Installing collected packages: audioread, joblib, Cython, resampy, librosa\n",
      "Successfully installed Cython-0.25.2 audioread-2.1.4 joblib-0.11 librosa-0.5.0 resampy-0.1.5\n"
     ]
    }
   ],
   "source": [
    "!pip install librosa"
   ]
  },
  {
   "cell_type": "code",
   "execution_count": 5,
   "metadata": {
    "collapsed": false
   },
   "outputs": [],
   "source": [
    "import os\n",
    "os.getcwd()\n",
    "os.chdir(\"music-auto_tagging-keras\")"
   ]
  },
  {
   "cell_type": "code",
   "execution_count": 6,
   "metadata": {
    "collapsed": false
   },
   "outputs": [
    {
     "name": "stderr",
     "output_type": "stream",
     "text": [
      "Using TensorFlow backend.\n"
     ]
    }
   ],
   "source": [
    "import time\n",
    "import numpy as np\n",
    "from keras import backend as K\n",
    "from music_tagger_cnn import MusicTaggerCNN\n",
    "from music_tagger_crnn import MusicTaggerCRNN\n",
    "import audio_processor as ap\n",
    "import pdb\n",
    "\n",
    "def sort_result(tags, preds):\n",
    "    result = zip(tags, preds)\n",
    "    sorted_result = sorted(result, key=lambda x: x[1], reverse=True)\n",
    "    return [(name, '%5.3f' % score) for name, score in sorted_result]\n",
    "\n",
    "\n",
    "def librosa_exists():\n",
    "    try:\n",
    "        __import__('librosa')\n",
    "    except ImportError:\n",
    "        return False\n",
    "    else:\n",
    "        return True"
   ]
  },
  {
   "cell_type": "code",
   "execution_count": 7,
   "metadata": {
    "collapsed": true
   },
   "outputs": [],
   "source": [
    "def main(net):\n",
    "    \n",
    "    print('Running main() with network: %s and backend: %s' % (net, K._BACKEND))\n",
    "    # setting\n",
    "    audio_paths = ['data/bensound-cute.mp3',\n",
    "                   'data/bensound-actionable.mp3',\n",
    "                   'data/bensound-dubstep.mp3',\n",
    "                   'data/bensound-thejazzpiano.mp3']\n",
    "    melgram_paths = ['data/bensound-cute.npy',\n",
    "                     'data/bensound-actionable.npy',\n",
    "                     'data/bensound-dubstep.npy',\n",
    "                     'data/bensound-thejazzpiano.npy']\n",
    "\n",
    "    tags = ['rock', 'pop', 'alternative', 'indie', 'electronic',\n",
    "            'female vocalists', 'dance', '00s', 'alternative rock', 'jazz',\n",
    "            'beautiful', 'metal', 'chillout', 'male vocalists',\n",
    "            'classic rock', 'soul', 'indie rock', 'Mellow', 'electronica',\n",
    "            '80s', 'folk', '90s', 'chill', 'instrumental', 'punk',\n",
    "            'oldies', 'blues', 'hard rock', 'ambient', 'acoustic',\n",
    "            'experimental', 'female vocalist', 'guitar', 'Hip-Hop',\n",
    "            '70s', 'party', 'country', 'easy listening',\n",
    "            'sexy', 'catchy', 'funk', 'electro', 'heavy metal',\n",
    "            'Progressive rock', '60s', 'rnb', 'indie pop',\n",
    "            'sad', 'House', 'happy']\n",
    "\n",
    "    # prepare data like this\n",
    "    melgrams = np.zeros((0, 1, 96, 1366))\n",
    "\n",
    "    if librosa_exists:\n",
    "        for audio_path in audio_paths:\n",
    "            melgram = ap.compute_melgram(audio_path)\n",
    "            melgrams = np.concatenate((melgrams, melgram), axis=0)\n",
    "    else:\n",
    "        for melgram_path in melgram_paths:\n",
    "            melgram = np.load(melgram_path)\n",
    "            melgrams = np.concatenate((melgrams, melgram), axis=0)\n",
    "\n",
    "    # load model like this\n",
    "    if net == 'cnn':\n",
    "        model = MusicTaggerCNN(weights='msd')\n",
    "    elif net == 'crnn':\n",
    "        model = MusicTaggerCRNN(weights='msd')\n",
    "    model.summary()\n",
    "    # predict the tags like this\n",
    "    print('Predicting... with melgrams: ', melgrams.shape)\n",
    "    start = time.time()\n",
    "    pred_tags = model.predict(melgrams)\n",
    "    # print like this...\n",
    "    print(\"Prediction is done. It took %d seconds.\" % (time.time()-start))\n",
    "    print('Printing top-10 tags for each track...')\n",
    "    for song_idx, audio_path in enumerate(audio_paths):\n",
    "        sorted_result = sort_result(tags, pred_tags[song_idx, :].tolist())\n",
    "        print(audio_path)\n",
    "        print(sorted_result[:5])\n",
    "        print(sorted_result[5:10])\n",
    "        print(' ')\n",
    "\n",
    "    return"
   ]
  },
  {
   "cell_type": "code",
   "execution_count": 12,
   "metadata": {
    "collapsed": false
   },
   "outputs": [
    {
     "name": "stdout",
     "output_type": "stream",
     "text": [
      "Running main() with network: cnn and backend: tensorflow\n"
     ]
    },
    {
     "ename": "NoBackendError",
     "evalue": "",
     "output_type": "error",
     "traceback": [
      "\u001b[0;31m---------------------------------------------------------------------------\u001b[0m",
      "\u001b[0;31mNoBackendError\u001b[0m                            Traceback (most recent call last)",
      "\u001b[0;32m<ipython-input-12-e08638c12fa6>\u001b[0m in \u001b[0;36m<module>\u001b[0;34m()\u001b[0m\n\u001b[1;32m      4\u001b[0m     \u001b[0mnetworks\u001b[0m \u001b[0;34m=\u001b[0m \u001b[0;34m[\u001b[0m\u001b[0;34m'cnn'\u001b[0m\u001b[0;34m,\u001b[0m \u001b[0;34m'crnn'\u001b[0m\u001b[0;34m]\u001b[0m\u001b[0;34m\u001b[0m\u001b[0m\n\u001b[1;32m      5\u001b[0m     \u001b[0;32mfor\u001b[0m \u001b[0mnet\u001b[0m \u001b[0;32min\u001b[0m \u001b[0mnetworks\u001b[0m\u001b[0;34m:\u001b[0m\u001b[0;34m\u001b[0m\u001b[0m\n\u001b[0;32m----> 6\u001b[0;31m         \u001b[0mmain\u001b[0m\u001b[0;34m(\u001b[0m\u001b[0mnet\u001b[0m\u001b[0;34m)\u001b[0m\u001b[0;34m\u001b[0m\u001b[0m\n\u001b[0m",
      "\u001b[0;32m<ipython-input-7-97daa89e645b>\u001b[0m in \u001b[0;36mmain\u001b[0;34m(net)\u001b[0m\n\u001b[1;32m     29\u001b[0m     \u001b[0;32mif\u001b[0m \u001b[0mlibrosa_exists\u001b[0m\u001b[0;34m:\u001b[0m\u001b[0;34m\u001b[0m\u001b[0m\n\u001b[1;32m     30\u001b[0m         \u001b[0;32mfor\u001b[0m \u001b[0maudio_path\u001b[0m \u001b[0;32min\u001b[0m \u001b[0maudio_paths\u001b[0m\u001b[0;34m:\u001b[0m\u001b[0;34m\u001b[0m\u001b[0m\n\u001b[0;32m---> 31\u001b[0;31m             \u001b[0mmelgram\u001b[0m \u001b[0;34m=\u001b[0m \u001b[0map\u001b[0m\u001b[0;34m.\u001b[0m\u001b[0mcompute_melgram\u001b[0m\u001b[0;34m(\u001b[0m\u001b[0maudio_path\u001b[0m\u001b[0;34m)\u001b[0m\u001b[0;34m\u001b[0m\u001b[0m\n\u001b[0m\u001b[1;32m     32\u001b[0m             \u001b[0mmelgrams\u001b[0m \u001b[0;34m=\u001b[0m \u001b[0mnp\u001b[0m\u001b[0;34m.\u001b[0m\u001b[0mconcatenate\u001b[0m\u001b[0;34m(\u001b[0m\u001b[0;34m(\u001b[0m\u001b[0mmelgrams\u001b[0m\u001b[0;34m,\u001b[0m \u001b[0mmelgram\u001b[0m\u001b[0;34m)\u001b[0m\u001b[0;34m,\u001b[0m \u001b[0maxis\u001b[0m\u001b[0;34m=\u001b[0m\u001b[0;36m0\u001b[0m\u001b[0;34m)\u001b[0m\u001b[0;34m\u001b[0m\u001b[0m\n\u001b[1;32m     33\u001b[0m     \u001b[0;32melse\u001b[0m\u001b[0;34m:\u001b[0m\u001b[0;34m\u001b[0m\u001b[0m\n",
      "\u001b[0;32m/notebooks/music-auto_tagging-keras/audio_processor.py\u001b[0m in \u001b[0;36mcompute_melgram\u001b[0;34m(audio_path)\u001b[0m\n\u001b[1;32m     22\u001b[0m     \u001b[0mDURA\u001b[0m \u001b[0;34m=\u001b[0m \u001b[0;36m29.12\u001b[0m  \u001b[0;31m# to make it 1366 frame..\u001b[0m\u001b[0;34m\u001b[0m\u001b[0m\n\u001b[1;32m     23\u001b[0m \u001b[0;34m\u001b[0m\u001b[0m\n\u001b[0;32m---> 24\u001b[0;31m     \u001b[0msrc\u001b[0m\u001b[0;34m,\u001b[0m \u001b[0msr\u001b[0m \u001b[0;34m=\u001b[0m \u001b[0mlibrosa\u001b[0m\u001b[0;34m.\u001b[0m\u001b[0mload\u001b[0m\u001b[0;34m(\u001b[0m\u001b[0maudio_path\u001b[0m\u001b[0;34m,\u001b[0m \u001b[0msr\u001b[0m\u001b[0;34m=\u001b[0m\u001b[0mSR\u001b[0m\u001b[0;34m)\u001b[0m  \u001b[0;31m# whole signal\u001b[0m\u001b[0;34m\u001b[0m\u001b[0m\n\u001b[0m\u001b[1;32m     25\u001b[0m     \u001b[0mn_sample\u001b[0m \u001b[0;34m=\u001b[0m \u001b[0msrc\u001b[0m\u001b[0;34m.\u001b[0m\u001b[0mshape\u001b[0m\u001b[0;34m[\u001b[0m\u001b[0;36m0\u001b[0m\u001b[0;34m]\u001b[0m\u001b[0;34m\u001b[0m\u001b[0m\n\u001b[1;32m     26\u001b[0m     \u001b[0mn_sample_fit\u001b[0m \u001b[0;34m=\u001b[0m \u001b[0mint\u001b[0m\u001b[0;34m(\u001b[0m\u001b[0mDURA\u001b[0m\u001b[0;34m*\u001b[0m\u001b[0mSR\u001b[0m\u001b[0;34m)\u001b[0m\u001b[0;34m\u001b[0m\u001b[0m\n",
      "\u001b[0;32m/usr/local/lib/python3.4/dist-packages/librosa/core/audio.py\u001b[0m in \u001b[0;36mload\u001b[0;34m(path, sr, mono, offset, duration, dtype, res_type)\u001b[0m\n\u001b[1;32m    105\u001b[0m \u001b[0;34m\u001b[0m\u001b[0m\n\u001b[1;32m    106\u001b[0m     \u001b[0my\u001b[0m \u001b[0;34m=\u001b[0m \u001b[0;34m[\u001b[0m\u001b[0;34m]\u001b[0m\u001b[0;34m\u001b[0m\u001b[0m\n\u001b[0;32m--> 107\u001b[0;31m     \u001b[0;32mwith\u001b[0m \u001b[0maudioread\u001b[0m\u001b[0;34m.\u001b[0m\u001b[0maudio_open\u001b[0m\u001b[0;34m(\u001b[0m\u001b[0mos\u001b[0m\u001b[0;34m.\u001b[0m\u001b[0mpath\u001b[0m\u001b[0;34m.\u001b[0m\u001b[0mrealpath\u001b[0m\u001b[0;34m(\u001b[0m\u001b[0mpath\u001b[0m\u001b[0;34m)\u001b[0m\u001b[0;34m)\u001b[0m \u001b[0;32mas\u001b[0m \u001b[0minput_file\u001b[0m\u001b[0;34m:\u001b[0m\u001b[0;34m\u001b[0m\u001b[0m\n\u001b[0m\u001b[1;32m    108\u001b[0m         \u001b[0msr_native\u001b[0m \u001b[0;34m=\u001b[0m \u001b[0minput_file\u001b[0m\u001b[0;34m.\u001b[0m\u001b[0msamplerate\u001b[0m\u001b[0;34m\u001b[0m\u001b[0m\n\u001b[1;32m    109\u001b[0m         \u001b[0mn_channels\u001b[0m \u001b[0;34m=\u001b[0m \u001b[0minput_file\u001b[0m\u001b[0;34m.\u001b[0m\u001b[0mchannels\u001b[0m\u001b[0;34m\u001b[0m\u001b[0m\n",
      "\u001b[0;32m/usr/local/lib/python3.4/dist-packages/audioread/__init__.py\u001b[0m in \u001b[0;36maudio_open\u001b[0;34m(path)\u001b[0m\n\u001b[1;32m    112\u001b[0m \u001b[0;34m\u001b[0m\u001b[0m\n\u001b[1;32m    113\u001b[0m     \u001b[0;31m# All backends failed!\u001b[0m\u001b[0;34m\u001b[0m\u001b[0;34m\u001b[0m\u001b[0m\n\u001b[0;32m--> 114\u001b[0;31m     \u001b[0;32mraise\u001b[0m \u001b[0mNoBackendError\u001b[0m\u001b[0;34m(\u001b[0m\u001b[0;34m)\u001b[0m\u001b[0;34m\u001b[0m\u001b[0m\n\u001b[0m",
      "\u001b[0;31mNoBackendError\u001b[0m: "
     ]
    }
   ],
   "source": [
    "import librosa\n",
    "if __name__ == '__main__':\n",
    "\n",
    "    networks = ['cnn', 'crnn']\n",
    "    for net in networks:\n",
    "        main(net)"
   ]
  },
  {
   "cell_type": "code",
   "execution_count": 9,
   "metadata": {
    "collapsed": false
   },
   "outputs": [
    {
     "name": "stdout",
     "output_type": "stream",
     "text": [
      "Collecting scikits.samplerate\n",
      "  Downloading scikits.samplerate-0.3.3.tar.gz (377kB)\n",
      "\u001b[K    100% |################################| 378kB 469kB/s ta 0:00:01\n",
      "\u001b[?25h    Complete output from command python setup.py egg_info:\n",
      "    SamplerateInfo:\n",
      "      libraries samplerate not found in /usr/local/lib\n",
      "      libraries samplerate not found in /usr/lib\n",
      "      libraries samplerate not found in /usr/lib/x86_64-linux-gnu\n",
      "    Traceback (most recent call last):\n",
      "      File \"scikits/samplerate/setup.py\", line 15, in configuration\n",
      "        sf_config = sf_info.get_info(2)\n",
      "      File \"/usr/local/lib/python3.4/dist-packages/numpy/distutils/system_info.py\", line 578, in get_info\n",
      "        raise self.notfounderror(self.notfounderror.__doc__)\n",
      "    numpy.distutils.system_info.NotFoundError: Some third-party program or library is not found.\n",
      "    \n",
      "    During handling of the above exception, another exception occurred:\n",
      "    \n",
      "    Traceback (most recent call last):\n",
      "      File \"<string>\", line 1, in <module>\n",
      "      File \"/tmp/pip-build-5lmn677g/scikits.samplerate/setup.py\", line 74, in <module>\n",
      "        classifiers = CLASSIFIERS,\n",
      "      File \"/usr/local/lib/python3.4/dist-packages/numpy/distutils/core.py\", line 135, in setup\n",
      "        config = configuration()\n",
      "      File \"/tmp/pip-build-5lmn677g/scikits.samplerate/setup.py\", line 59, in configuration\n",
      "        config.add_subpackage(DISTNAME)\n",
      "      File \"/usr/local/lib/python3.4/dist-packages/numpy/distutils/misc_util.py\", line 1001, in add_subpackage\n",
      "        caller_level = 2)\n",
      "      File \"/usr/local/lib/python3.4/dist-packages/numpy/distutils/misc_util.py\", line 970, in get_subpackage\n",
      "        caller_level = caller_level + 1)\n",
      "      File \"/usr/local/lib/python3.4/dist-packages/numpy/distutils/misc_util.py\", line 907, in _get_configuration_from_setup_py\n",
      "        config = setup_module.configuration(*args)\n",
      "      File \"scikits/samplerate/setup.py\", line 20, in configuration\n",
      "        [samplerate].\"\"\")\n",
      "    numpy.distutils.system_info.NotFoundError: SRC (http://www.mega-nerd.com/SRC/) library not found.  Directories to search\n",
      "    for the libraries can be specified in the site.cfg file, in section\n",
      "    [samplerate].\n",
      "    \n",
      "    ----------------------------------------\n",
      "\u001b[31mCommand \"python setup.py egg_info\" failed with error code 1 in /tmp/pip-build-5lmn677g/scikits.samplerate/\u001b[0m\n"
     ]
    }
   ],
   "source": [
    "!pip install scikits.samplerate"
   ]
  },
  {
   "cell_type": "code",
   "execution_count": 11,
   "metadata": {
    "collapsed": false
   },
   "outputs": [
    {
     "name": "stdout",
     "output_type": "stream",
     "text": [
      "Reading package lists... Done\n",
      "Building dependency tree       \n",
      "Reading state information... Done\n",
      "E: Unable to locate package libav-tools\n"
     ]
    }
   ],
   "source": [
    "!sudo apt-get install libav-tools\n",
    "\n"
   ]
  },
  {
   "cell_type": "code",
   "execution_count": 14,
   "metadata": {
    "collapsed": false
   },
   "outputs": [
    {
     "name": "stdout",
     "output_type": "stream",
     "text": [
      "/bin/sh: 1: brew: not found\r\n"
     ]
    }
   ],
   "source": [
    "#!pip install scikits.samplerate\n",
    "!brew install libsamplerate\n"
   ]
  },
  {
   "cell_type": "code",
   "execution_count": null,
   "metadata": {
    "collapsed": true
   },
   "outputs": [],
   "source": []
  }
 ],
 "metadata": {
  "kernelspec": {
   "display_name": "Python 3",
   "language": "python",
   "name": "python3"
  },
  "language_info": {
   "codemirror_mode": {
    "name": "ipython",
    "version": 3
   },
   "file_extension": ".py",
   "mimetype": "text/x-python",
   "name": "python",
   "nbconvert_exporter": "python",
   "pygments_lexer": "ipython3",
   "version": "3.4.3"
  }
 },
 "nbformat": 4,
 "nbformat_minor": 2
}
